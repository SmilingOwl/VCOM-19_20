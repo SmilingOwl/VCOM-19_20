{
 "cells": [
  {
   "cell_type": "code",
   "execution_count": 0,
   "metadata": {
    "colab": {},
    "colab_type": "code",
    "id": "q5f6nj9EtQbf"
   },
   "outputs": [],
   "source": [
    "from tensorflow.keras.preprocessing.image import ImageDataGenerator\n",
    "from tensorflow.keras.layers import AveragePooling2D, Input, Dense, Flatten, Dropout\n",
    "from tensorflow.keras.models import Model\n",
    "from tensorflow.keras.optimizers import Adam\n",
    "import tensorflow as tf\n",
    "from tensorflow.keras.applications import ResNet50\n",
    "from sklearn.metrics import classification_report\n",
    "import matplotlib.pyplot as plt\n",
    "import numpy as np"
   ]
  },
  {
   "cell_type": "code",
   "execution_count": 0,
   "metadata": {
    "colab": {},
    "colab_type": "code",
    "id": "bkS0BAF3s_UG"
   },
   "outputs": [],
   "source": [
    "trainAug = ImageDataGenerator(\n",
    "\trotation_range=10,\n",
    "\tzoom_range=0.1,\n",
    "\twidth_shift_range=0.1,\n",
    "\theight_shift_range=0.1,\n",
    "\tshear_range=0.1,\n",
    "\thorizontal_flip=True,\n",
    "\tfill_mode=\"nearest\")\n",
    "\n",
    "valAug = ImageDataGenerator()\n",
    "\n",
    "# ImageNet mean subtraction (in RGB order) \n",
    "mean = np.array([123.68, 116.779, 103.939], dtype=\"float32\")\n",
    "trainAug.mean = mean\n",
    "valAug.mean = mean"
   ]
  },
  {
   "cell_type": "code",
   "execution_count": 0,
   "metadata": {
    "colab": {
     "base_uri": "https://localhost:8080/",
     "height": 51
    },
    "colab_type": "code",
    "id": "CKyk5d26s_be",
    "outputId": "98e1d61c-d53d-4475-9d14-5c5f53f887a5"
   },
   "outputs": [
    {
     "name": "stdout",
     "output_type": "stream",
     "text": [
      "Found 6506 images belonging to 7 classes.\n",
      "Found 1504 images belonging to 7 classes.\n"
     ]
    }
   ],
   "source": [
    "# initialize the training generator\n",
    "trainGen = trainAug.flow_from_directory(\n",
    "\tdirectory=\"/content/Dataset/train\",\n",
    "\tclass_mode=\"categorical\",\n",
    "\ttarget_size=(224, 224),\n",
    "\tcolor_mode=\"rgb\",\n",
    "\tshuffle=True,\n",
    "\tbatch_size=256)\n",
    "\n",
    "# initialize the validation generator\n",
    "valGen = valAug.flow_from_directory(\n",
    "  directory=\"/content/Dataset/valid\",\n",
    "\tclass_mode=\"categorical\",\n",
    "\ttarget_size=(224, 224),\n",
    "\tcolor_mode=\"rgb\",\n",
    "\tshuffle=False,\n",
    "\tbatch_size=32)"
   ]
  },
  {
   "cell_type": "code",
   "execution_count": 0,
   "metadata": {
    "colab": {
     "base_uri": "https://localhost:8080/",
     "height": 89
    },
    "colab_type": "code",
    "id": "VWbGCSgrs_du",
    "outputId": "a3984e37-2b3c-4827-e64b-11c6dadc3ead"
   },
   "outputs": [
    {
     "name": "stdout",
     "output_type": "stream",
     "text": [
      "[INFO] preparing model...\n",
      "Downloading data from https://storage.googleapis.com/tensorflow/keras-applications/resnet/resnet50_weights_tf_dim_ordering_tf_kernels_notop.h5\n",
      "94773248/94765736 [==============================] - 1s 0us/step\n"
     ]
    }
   ],
   "source": [
    "baseModel = ResNet50(weights=\"imagenet\", include_top=False,\n",
    "\tinput_tensor=Input(shape=(224, 224, 3)))\n",
    "\n",
    "headModel = baseModel.output\n",
    "headModel = AveragePooling2D(pool_size=(7, 7))(headModel)\n",
    "headModel = Flatten(name=\"flatten\")(headModel)\n",
    "headModel = Dense(256, activation=\"relu\")(headModel)\n",
    "headModel = Dropout(0.5)(headModel)\n",
    "headModel = Dense(7, activation=\"softmax\")(headModel)\n",
    "\n",
    "model2 = Model(inputs=baseModel.input, outputs=headModel)\n"
   ]
  },
  {
   "cell_type": "code",
   "execution_count": 0,
   "metadata": {
    "colab": {},
    "colab_type": "code",
    "id": "boGrxjFNs_f-"
   },
   "outputs": [],
   "source": [
    "for layer in baseModel.layers:\n",
    "\tlayer.trainable = False\n",
    "    \n",
    "opt = Adam(lr=1e-3)\n",
    "model2.compile(loss=\"categorical_crossentropy\", optimizer=opt,\n",
    "\tmetrics=['accuracy'])"
   ]
  },
  {
   "cell_type": "code",
   "execution_count": 0,
   "metadata": {
    "colab": {
     "base_uri": "https://localhost:8080/",
     "height": 1000
    },
    "colab_type": "code",
    "id": "l3hsUKbftt-Q",
    "outputId": "fe13beb4-6258-471e-a768-55580ef241e6"
   },
   "outputs": [
    {
     "name": "stdout",
     "output_type": "stream",
     "text": [
      "Epoch 1/100\n",
      "26/26 [==============================] - ETA: 0s - loss: 1.8128 - accuracy: 0.3710\n",
      "Epoch 00001: val_accuracy improved from -inf to 0.53391, saving model to resnet_1fc256_head_001.h5\n",
      "26/26 [==============================] - 130s 5s/step - loss: 1.8128 - accuracy: 0.3710 - val_loss: 1.2810 - val_accuracy: 0.5339\n",
      "Epoch 2/100\n",
      "26/26 [==============================] - ETA: 0s - loss: 1.3787 - accuracy: 0.5103\n",
      "Epoch 00002: val_accuracy improved from 0.53391 to 0.58311, saving model to resnet_1fc256_head_002.h5\n",
      "26/26 [==============================] - 129s 5s/step - loss: 1.3787 - accuracy: 0.5103 - val_loss: 1.1531 - val_accuracy: 0.5831\n",
      "Epoch 3/100\n",
      "26/26 [==============================] - ETA: 0s - loss: 1.2563 - accuracy: 0.5343\n",
      "Epoch 00003: val_accuracy did not improve from 0.58311\n",
      "26/26 [==============================] - 132s 5s/step - loss: 1.2563 - accuracy: 0.5343 - val_loss: 1.1501 - val_accuracy: 0.5791\n",
      "Epoch 4/100\n",
      "26/26 [==============================] - ETA: 0s - loss: 1.1774 - accuracy: 0.5621\n",
      "Epoch 00004: val_accuracy improved from 0.58311 to 0.60505, saving model to resnet_1fc256_head_004.h5\n",
      "26/26 [==============================] - 131s 5s/step - loss: 1.1774 - accuracy: 0.5621 - val_loss: 1.0201 - val_accuracy: 0.6051\n",
      "Epoch 5/100\n",
      "26/26 [==============================] - ETA: 0s - loss: 1.1149 - accuracy: 0.5642\n",
      "Epoch 00005: val_accuracy did not improve from 0.60505\n",
      "26/26 [==============================] - 128s 5s/step - loss: 1.1149 - accuracy: 0.5642 - val_loss: 1.0292 - val_accuracy: 0.5938\n",
      "Epoch 6/100\n",
      "26/26 [==============================] - ETA: 0s - loss: 1.0649 - accuracy: 0.5961\n",
      "Epoch 00006: val_accuracy improved from 0.60505 to 0.61503, saving model to resnet_1fc256_head_006.h5\n",
      "26/26 [==============================] - 129s 5s/step - loss: 1.0649 - accuracy: 0.5961 - val_loss: 1.0409 - val_accuracy: 0.6150\n",
      "Epoch 7/100\n",
      "26/26 [==============================] - ETA: 0s - loss: 1.0071 - accuracy: 0.5942\n",
      "Epoch 00007: val_accuracy improved from 0.61503 to 0.62699, saving model to resnet_1fc256_head_007.h5\n",
      "26/26 [==============================] - 129s 5s/step - loss: 1.0071 - accuracy: 0.5942 - val_loss: 0.9928 - val_accuracy: 0.6270\n",
      "Epoch 8/100\n",
      "26/26 [==============================] - ETA: 0s - loss: 0.9807 - accuracy: 0.6124\n",
      "Epoch 00008: val_accuracy did not improve from 0.62699\n",
      "26/26 [==============================] - 129s 5s/step - loss: 0.9807 - accuracy: 0.6124 - val_loss: 0.9988 - val_accuracy: 0.6237\n",
      "Epoch 9/100\n",
      "26/26 [==============================] - ETA: 0s - loss: 1.0012 - accuracy: 0.6011\n",
      "Epoch 00009: val_accuracy improved from 0.62699 to 0.64561, saving model to resnet_1fc256_head_009.h5\n",
      "26/26 [==============================] - 129s 5s/step - loss: 1.0012 - accuracy: 0.6011 - val_loss: 0.9264 - val_accuracy: 0.6456\n",
      "Epoch 10/100\n",
      "26/26 [==============================] - ETA: 0s - loss: 0.9478 - accuracy: 0.6193\n",
      "Epoch 00010: val_accuracy did not improve from 0.64561\n",
      "26/26 [==============================] - 129s 5s/step - loss: 0.9478 - accuracy: 0.6193 - val_loss: 0.9662 - val_accuracy: 0.6210\n",
      "Epoch 11/100\n",
      "26/26 [==============================] - ETA: 0s - loss: 0.9296 - accuracy: 0.6270\n",
      "Epoch 00011: val_accuracy did not improve from 0.64561\n",
      "26/26 [==============================] - 129s 5s/step - loss: 0.9296 - accuracy: 0.6270 - val_loss: 1.0629 - val_accuracy: 0.6170\n",
      "Epoch 12/100\n",
      "26/26 [==============================] - ETA: 0s - loss: 0.8939 - accuracy: 0.6313\n",
      "Epoch 00012: val_accuracy did not improve from 0.64561\n",
      "26/26 [==============================] - 128s 5s/step - loss: 0.8939 - accuracy: 0.6313 - val_loss: 1.0292 - val_accuracy: 0.6223\n",
      "Epoch 13/100\n",
      "26/26 [==============================] - ETA: 0s - loss: 0.8757 - accuracy: 0.6320\n",
      "Epoch 00013: val_accuracy did not improve from 0.64561\n",
      "26/26 [==============================] - 128s 5s/step - loss: 0.8757 - accuracy: 0.6320 - val_loss: 0.9567 - val_accuracy: 0.6243\n",
      "Epoch 14/100\n",
      "26/26 [==============================] - ETA: 0s - loss: 0.8582 - accuracy: 0.6436\n",
      "Epoch 00014: val_accuracy did not improve from 0.64561\n",
      "26/26 [==============================] - 129s 5s/step - loss: 0.8582 - accuracy: 0.6436 - val_loss: 0.9772 - val_accuracy: 0.6303\n",
      "Epoch 15/100\n",
      "26/26 [==============================] - ETA: 0s - loss: 0.8055 - accuracy: 0.6520\n",
      "Epoch 00015: val_accuracy improved from 0.64561 to 0.65027, saving model to resnet_1fc256_head_015.h5\n",
      "26/26 [==============================] - 129s 5s/step - loss: 0.8055 - accuracy: 0.6520 - val_loss: 0.9008 - val_accuracy: 0.6503\n",
      "Epoch 16/100\n",
      "26/26 [==============================] - ETA: 0s - loss: 0.8015 - accuracy: 0.6657\n",
      "Epoch 00016: val_accuracy did not improve from 0.65027\n",
      "26/26 [==============================] - 128s 5s/step - loss: 0.8015 - accuracy: 0.6657 - val_loss: 0.9477 - val_accuracy: 0.6303\n",
      "Epoch 17/100\n",
      "26/26 [==============================] - ETA: 0s - loss: 0.8149 - accuracy: 0.6476\n",
      "Epoch 00017: val_accuracy did not improve from 0.65027\n",
      "26/26 [==============================] - 128s 5s/step - loss: 0.8149 - accuracy: 0.6476 - val_loss: 0.9737 - val_accuracy: 0.6124\n",
      "Epoch 18/100\n",
      "26/26 [==============================] - ETA: 0s - loss: 0.7938 - accuracy: 0.6491\n",
      "Epoch 00018: val_accuracy did not improve from 0.65027\n",
      "26/26 [==============================] - 128s 5s/step - loss: 0.7938 - accuracy: 0.6491 - val_loss: 0.9212 - val_accuracy: 0.6356\n",
      "Epoch 19/100\n",
      "26/26 [==============================] - ETA: 0s - loss: 0.7488 - accuracy: 0.6675\n",
      "Epoch 00019: val_accuracy did not improve from 0.65027\n",
      "26/26 [==============================] - 128s 5s/step - loss: 0.7488 - accuracy: 0.6675 - val_loss: 0.8818 - val_accuracy: 0.6403\n",
      "Epoch 20/100\n",
      "26/26 [==============================] - ETA: 0s - loss: 0.7430 - accuracy: 0.6743\n",
      "Epoch 00020: val_accuracy improved from 0.65027 to 0.65293, saving model to resnet_1fc256_head_020.h5\n",
      "26/26 [==============================] - 129s 5s/step - loss: 0.7430 - accuracy: 0.6743 - val_loss: 0.8779 - val_accuracy: 0.6529\n",
      "Epoch 21/100\n",
      "26/26 [==============================] - ETA: 0s - loss: 0.7213 - accuracy: 0.6769\n",
      "Epoch 00021: val_accuracy improved from 0.65293 to 0.65426, saving model to resnet_1fc256_head_021.h5\n",
      "26/26 [==============================] - 129s 5s/step - loss: 0.7213 - accuracy: 0.6769 - val_loss: 0.8571 - val_accuracy: 0.6543\n",
      "Epoch 22/100\n",
      "26/26 [==============================] - ETA: 0s - loss: 0.7100 - accuracy: 0.6808\n",
      "Epoch 00022: val_accuracy improved from 0.65426 to 0.66822, saving model to resnet_1fc256_head_022.h5\n",
      "26/26 [==============================] - 129s 5s/step - loss: 0.7100 - accuracy: 0.6808 - val_loss: 0.8324 - val_accuracy: 0.6682\n",
      "Epoch 23/100\n",
      "26/26 [==============================] - ETA: 0s - loss: 0.7122 - accuracy: 0.6857\n",
      "Epoch 00023: val_accuracy did not improve from 0.66822\n",
      "26/26 [==============================] - 129s 5s/step - loss: 0.7122 - accuracy: 0.6857 - val_loss: 0.9997 - val_accuracy: 0.6011\n",
      "Epoch 24/100\n",
      "26/26 [==============================] - ETA: 0s - loss: 0.6836 - accuracy: 0.6778\n",
      "Epoch 00024: val_accuracy did not improve from 0.66822\n",
      "26/26 [==============================] - 129s 5s/step - loss: 0.6836 - accuracy: 0.6778 - val_loss: 0.9674 - val_accuracy: 0.6356\n",
      "Epoch 25/100\n",
      "26/26 [==============================] - ETA: 0s - loss: 0.7050 - accuracy: 0.6803\n",
      "Epoch 00025: val_accuracy did not improve from 0.66822\n",
      "26/26 [==============================] - 128s 5s/step - loss: 0.7050 - accuracy: 0.6803 - val_loss: 0.8615 - val_accuracy: 0.6503\n",
      "Epoch 26/100\n",
      "26/26 [==============================] - ETA: 0s - loss: 0.6631 - accuracy: 0.6889\n",
      "Epoch 00026: val_accuracy did not improve from 0.66822\n",
      "26/26 [==============================] - 128s 5s/step - loss: 0.6631 - accuracy: 0.6889 - val_loss: 0.8897 - val_accuracy: 0.6423\n",
      "Epoch 27/100\n",
      "26/26 [==============================] - ETA: 0s - loss: 0.6489 - accuracy: 0.6943\n",
      "Epoch 00027: val_accuracy did not improve from 0.66822\n",
      "26/26 [==============================] - 128s 5s/step - loss: 0.6489 - accuracy: 0.6943 - val_loss: 0.8709 - val_accuracy: 0.6622\n",
      "Epoch 28/100\n",
      "26/26 [==============================] - ETA: 0s - loss: 0.6618 - accuracy: 0.6990\n",
      "Epoch 00028: val_accuracy did not improve from 0.66822\n",
      "26/26 [==============================] - 128s 5s/step - loss: 0.6618 - accuracy: 0.6990 - val_loss: 0.8571 - val_accuracy: 0.6543\n",
      "Epoch 29/100\n",
      "26/26 [==============================] - ETA: 0s - loss: 0.6777 - accuracy: 0.6946\n",
      "Epoch 00029: val_accuracy did not improve from 0.66822\n",
      "26/26 [==============================] - 128s 5s/step - loss: 0.6777 - accuracy: 0.6946 - val_loss: 0.8269 - val_accuracy: 0.6669\n",
      "Epoch 30/100\n",
      "26/26 [==============================] - ETA: 0s - loss: 0.6325 - accuracy: 0.6957\n",
      "Epoch 00030: val_accuracy did not improve from 0.66822\n",
      "26/26 [==============================] - 128s 5s/step - loss: 0.6325 - accuracy: 0.6957 - val_loss: 0.8802 - val_accuracy: 0.6483\n",
      "Epoch 31/100\n",
      "26/26 [==============================] - ETA: 0s - loss: 0.6192 - accuracy: 0.7078\n",
      "Epoch 00031: val_accuracy did not improve from 0.66822\n",
      "26/26 [==============================] - 128s 5s/step - loss: 0.6192 - accuracy: 0.7078 - val_loss: 0.8509 - val_accuracy: 0.6656\n",
      "Epoch 32/100\n",
      "26/26 [==============================] - ETA: 0s - loss: 0.6121 - accuracy: 0.7077\n",
      "Epoch 00032: val_accuracy did not improve from 0.66822\n",
      "26/26 [==============================] - 128s 5s/step - loss: 0.6121 - accuracy: 0.7077 - val_loss: 0.8575 - val_accuracy: 0.6662\n",
      "Epoch 33/100\n",
      "26/26 [==============================] - ETA: 0s - loss: 0.6091 - accuracy: 0.7176\n",
      "Epoch 00033: val_accuracy improved from 0.66822 to 0.67287, saving model to resnet_1fc256_head_033.h5\n",
      "26/26 [==============================] - 129s 5s/step - loss: 0.6091 - accuracy: 0.7176 - val_loss: 0.8187 - val_accuracy: 0.6729\n",
      "Epoch 34/100\n",
      "26/26 [==============================] - ETA: 0s - loss: 0.6064 - accuracy: 0.7216\n",
      "Epoch 00034: val_accuracy did not improve from 0.67287\n",
      "26/26 [==============================] - 128s 5s/step - loss: 0.6064 - accuracy: 0.7216 - val_loss: 0.8911 - val_accuracy: 0.6449\n",
      "Epoch 35/100\n",
      "26/26 [==============================] - ETA: 0s - loss: 0.6164 - accuracy: 0.7050\n",
      "Epoch 00035: val_accuracy did not improve from 0.67287\n",
      "26/26 [==============================] - 128s 5s/step - loss: 0.6164 - accuracy: 0.7050 - val_loss: 0.8631 - val_accuracy: 0.6609\n",
      "Epoch 36/100\n",
      "26/26 [==============================] - ETA: 0s - loss: 0.5917 - accuracy: 0.7090\n",
      "Epoch 00036: val_accuracy improved from 0.67287 to 0.68484, saving model to resnet_1fc256_head_036.h5\n",
      "26/26 [==============================] - 129s 5s/step - loss: 0.5917 - accuracy: 0.7090 - val_loss: 0.7901 - val_accuracy: 0.6848\n",
      "Epoch 37/100\n",
      "26/26 [==============================] - ETA: 0s - loss: 0.6407 - accuracy: 0.7050\n",
      "Epoch 00037: val_accuracy did not improve from 0.68484\n",
      "26/26 [==============================] - 128s 5s/step - loss: 0.6407 - accuracy: 0.7050 - val_loss: 0.8560 - val_accuracy: 0.6676\n",
      "Epoch 38/100\n",
      "26/26 [==============================] - ETA: 0s - loss: 0.6056 - accuracy: 0.7058\n",
      "Epoch 00038: val_accuracy improved from 0.68484 to 0.68551, saving model to resnet_1fc256_head_038.h5\n",
      "26/26 [==============================] - 129s 5s/step - loss: 0.6056 - accuracy: 0.7058 - val_loss: 0.7938 - val_accuracy: 0.6855\n",
      "Epoch 39/100\n",
      "26/26 [==============================] - ETA: 0s - loss: 0.5686 - accuracy: 0.7195\n",
      "Epoch 00039: val_accuracy did not improve from 0.68551\n",
      "26/26 [==============================] - 129s 5s/step - loss: 0.5686 - accuracy: 0.7195 - val_loss: 0.8374 - val_accuracy: 0.6735\n",
      "Epoch 40/100\n",
      "26/26 [==============================] - ETA: 0s - loss: 0.5647 - accuracy: 0.7269\n",
      "Epoch 00040: val_accuracy did not improve from 0.68551\n",
      "26/26 [==============================] - 129s 5s/step - loss: 0.5647 - accuracy: 0.7269 - val_loss: 0.8336 - val_accuracy: 0.6662\n",
      "Epoch 41/100\n",
      "26/26 [==============================] - ETA: 0s - loss: 0.5739 - accuracy: 0.7161\n",
      "Epoch 00041: val_accuracy did not improve from 0.68551\n",
      "26/26 [==============================] - 129s 5s/step - loss: 0.5739 - accuracy: 0.7161 - val_loss: 0.8478 - val_accuracy: 0.6676\n",
      "Epoch 42/100\n",
      "26/26 [==============================] - ETA: 0s - loss: 0.5819 - accuracy: 0.7115\n",
      "Epoch 00042: val_accuracy did not improve from 0.68551\n",
      "26/26 [==============================] - 129s 5s/step - loss: 0.5819 - accuracy: 0.7115 - val_loss: 0.8882 - val_accuracy: 0.6516\n",
      "Epoch 43/100\n",
      "26/26 [==============================] - ETA: 0s - loss: 0.5573 - accuracy: 0.7253\n",
      "Epoch 00043: val_accuracy did not improve from 0.68551\n",
      "26/26 [==============================] - 129s 5s/step - loss: 0.5573 - accuracy: 0.7253 - val_loss: 0.8689 - val_accuracy: 0.6676\n",
      "Epoch 44/100\n",
      "26/26 [==============================] - ETA: 0s - loss: 0.5392 - accuracy: 0.7264\n",
      "Epoch 00044: val_accuracy did not improve from 0.68551\n",
      "26/26 [==============================] - 128s 5s/step - loss: 0.5392 - accuracy: 0.7264 - val_loss: 0.8161 - val_accuracy: 0.6755\n",
      "Epoch 45/100\n",
      "26/26 [==============================] - ETA: 0s - loss: 0.5299 - accuracy: 0.7206\n",
      "Epoch 00045: val_accuracy improved from 0.68551 to 0.68617, saving model to resnet_1fc256_head_045.h5\n",
      "26/26 [==============================] - 129s 5s/step - loss: 0.5299 - accuracy: 0.7206 - val_loss: 0.7836 - val_accuracy: 0.6862\n",
      "Epoch 46/100\n",
      "26/26 [==============================] - ETA: 0s - loss: 0.5533 - accuracy: 0.7276\n",
      "Epoch 00046: val_accuracy did not improve from 0.68617\n",
      "26/26 [==============================] - 129s 5s/step - loss: 0.5533 - accuracy: 0.7276 - val_loss: 0.7963 - val_accuracy: 0.6862\n",
      "Epoch 47/100\n",
      "26/26 [==============================] - ETA: 0s - loss: 0.5664 - accuracy: 0.7299\n",
      "Epoch 00047: val_accuracy did not improve from 0.68617\n",
      "26/26 [==============================] - 128s 5s/step - loss: 0.5664 - accuracy: 0.7299 - val_loss: 0.8669 - val_accuracy: 0.6516\n",
      "Epoch 48/100\n",
      "26/26 [==============================] - ETA: 0s - loss: 0.5602 - accuracy: 0.7170\n",
      "Epoch 00048: val_accuracy did not improve from 0.68617\n",
      "26/26 [==============================] - 128s 5s/step - loss: 0.5602 - accuracy: 0.7170 - val_loss: 0.9366 - val_accuracy: 0.6523\n",
      "Epoch 49/100\n",
      "26/26 [==============================] - ETA: 0s - loss: 0.5428 - accuracy: 0.7283\n",
      "Epoch 00049: val_accuracy did not improve from 0.68617\n",
      "26/26 [==============================] - 128s 5s/step - loss: 0.5428 - accuracy: 0.7283 - val_loss: 0.8381 - val_accuracy: 0.6729\n",
      "Epoch 50/100\n",
      "26/26 [==============================] - ETA: 0s - loss: 0.5443 - accuracy: 0.7315\n",
      "Epoch 00050: val_accuracy did not improve from 0.68617\n",
      "26/26 [==============================] - 128s 5s/step - loss: 0.5443 - accuracy: 0.7315 - val_loss: 0.8619 - val_accuracy: 0.6636\n",
      "Epoch 51/100\n",
      "26/26 [==============================] - ETA: 0s - loss: 0.5104 - accuracy: 0.7364\n",
      "Epoch 00051: val_accuracy did not improve from 0.68617\n",
      "26/26 [==============================] - 128s 5s/step - loss: 0.5104 - accuracy: 0.7364 - val_loss: 0.7981 - val_accuracy: 0.6842\n",
      "Epoch 52/100\n",
      "26/26 [==============================] - ETA: 0s - loss: 0.5180 - accuracy: 0.7449\n",
      "Epoch 00052: val_accuracy did not improve from 0.68617\n",
      "26/26 [==============================] - 129s 5s/step - loss: 0.5180 - accuracy: 0.7449 - val_loss: 0.8354 - val_accuracy: 0.6742\n",
      "Epoch 53/100\n",
      "26/26 [==============================] - ETA: 0s - loss: 0.5132 - accuracy: 0.7344\n",
      "Epoch 00053: val_accuracy did not improve from 0.68617\n",
      "26/26 [==============================] - 128s 5s/step - loss: 0.5132 - accuracy: 0.7344 - val_loss: 0.8305 - val_accuracy: 0.6656\n",
      "Epoch 54/100\n",
      "26/26 [==============================] - ETA: 0s - loss: 0.4980 - accuracy: 0.7364\n",
      "Epoch 00054: val_accuracy did not improve from 0.68617\n",
      "26/26 [==============================] - 128s 5s/step - loss: 0.4980 - accuracy: 0.7364 - val_loss: 0.8687 - val_accuracy: 0.6709\n",
      "Epoch 55/100\n",
      "26/26 [==============================] - ETA: 0s - loss: 0.4961 - accuracy: 0.7427\n",
      "Epoch 00055: val_accuracy did not improve from 0.68617\n",
      "26/26 [==============================] - 128s 5s/step - loss: 0.4961 - accuracy: 0.7427 - val_loss: 0.8531 - val_accuracy: 0.6689\n",
      "Epoch 56/100\n",
      "26/26 [==============================] - ETA: 0s - loss: 0.5032 - accuracy: 0.7458\n",
      "Epoch 00056: val_accuracy did not improve from 0.68617\n",
      "26/26 [==============================] - 128s 5s/step - loss: 0.5032 - accuracy: 0.7458 - val_loss: 0.9004 - val_accuracy: 0.6543\n",
      "Epoch 57/100\n",
      "26/26 [==============================] - ETA: 0s - loss: 0.4856 - accuracy: 0.7493\n",
      "Epoch 00057: val_accuracy improved from 0.68617 to 0.68750, saving model to resnet_1fc256_head_057.h5\n",
      "26/26 [==============================] - 129s 5s/step - loss: 0.4856 - accuracy: 0.7493 - val_loss: 0.8278 - val_accuracy: 0.6875\n",
      "Epoch 58/100\n",
      "26/26 [==============================] - ETA: 0s - loss: 0.4801 - accuracy: 0.7512\n",
      "Epoch 00058: val_accuracy did not improve from 0.68750\n",
      "26/26 [==============================] - 129s 5s/step - loss: 0.4801 - accuracy: 0.7512 - val_loss: 0.8568 - val_accuracy: 0.6782\n",
      "Epoch 59/100\n",
      "26/26 [==============================] - ETA: 0s - loss: 0.4643 - accuracy: 0.7502\n",
      "Epoch 00059: val_accuracy did not improve from 0.68750\n",
      "26/26 [==============================] - 129s 5s/step - loss: 0.4643 - accuracy: 0.7502 - val_loss: 0.9323 - val_accuracy: 0.6516\n",
      "Epoch 60/100\n",
      "26/26 [==============================] - ETA: 0s - loss: 0.4653 - accuracy: 0.7433\n",
      "Epoch 00060: val_accuracy improved from 0.68750 to 0.69016, saving model to resnet_1fc256_head_060.h5\n",
      "26/26 [==============================] - 130s 5s/step - loss: 0.4653 - accuracy: 0.7433 - val_loss: 0.7847 - val_accuracy: 0.6902\n",
      "Epoch 61/100\n",
      "26/26 [==============================] - ETA: 0s - loss: 0.4436 - accuracy: 0.7631\n",
      "Epoch 00061: val_accuracy did not improve from 0.69016\n",
      "26/26 [==============================] - 129s 5s/step - loss: 0.4436 - accuracy: 0.7631 - val_loss: 0.8545 - val_accuracy: 0.6789\n",
      "Epoch 62/100\n",
      "26/26 [==============================] - ETA: 0s - loss: 0.4698 - accuracy: 0.7619\n",
      "Epoch 00062: val_accuracy did not improve from 0.69016\n",
      "26/26 [==============================] - 133s 5s/step - loss: 0.4698 - accuracy: 0.7619 - val_loss: 0.8893 - val_accuracy: 0.6509\n",
      "Epoch 63/100\n",
      "26/26 [==============================] - ETA: 0s - loss: 0.4686 - accuracy: 0.7439\n",
      "Epoch 00063: val_accuracy did not improve from 0.69016\n",
      "26/26 [==============================] - 130s 5s/step - loss: 0.4686 - accuracy: 0.7439 - val_loss: 0.8592 - val_accuracy: 0.6682\n",
      "Epoch 64/100\n",
      "26/26 [==============================] - ETA: 0s - loss: 0.4764 - accuracy: 0.7607\n",
      "Epoch 00064: val_accuracy improved from 0.69016 to 0.69814, saving model to resnet_1fc256_head_064.h5\n",
      "26/26 [==============================] - 130s 5s/step - loss: 0.4764 - accuracy: 0.7607 - val_loss: 0.7995 - val_accuracy: 0.6981\n",
      "Epoch 65/100\n",
      "26/26 [==============================] - ETA: 0s - loss: 0.4777 - accuracy: 0.7468\n",
      "Epoch 00065: val_accuracy did not improve from 0.69814\n",
      "26/26 [==============================] - 130s 5s/step - loss: 0.4777 - accuracy: 0.7468 - val_loss: 0.8351 - val_accuracy: 0.6775\n",
      "Epoch 00065: early stopping\n"
     ]
    }
   ],
   "source": [
    "checkpoint = tf.keras.callbacks.ModelCheckpoint('resnet_1fc256_head_{epoch:03d}.h5', monitor='val_accuracy', verbose=1, save_best_only=True,  mode='max', save_freq='epoch')\n",
    "early = tf.keras.callbacks.EarlyStopping(monitor='val_loss', patience=20, verbose=1, mode='min')\n",
    "\n",
    "history2 = model2.fit(\n",
    "\ttrainGen,\n",
    "\tvalidation_data=valGen,\n",
    "  class_weight=class_weight,\n",
    "  epochs=100,\n",
    "  callbacks=[checkpoint,early],\n",
    "  verbose=1)"
   ]
  },
  {
   "cell_type": "code",
   "execution_count": 0,
   "metadata": {
    "colab": {
     "base_uri": "https://localhost:8080/",
     "height": 545
    },
    "colab_type": "code",
    "id": "2V2fdUCXuCTP",
    "outputId": "c74388a8-a211-4363-d14e-fbf378368899"
   },
   "outputs": [
    {
     "data": {
      "image/png": "[encoded data removed]",
      "text/plain": [
       "<Figure size 432x288 with 1 Axes>"
      ]
     },
     "metadata": {
      "needs_background": "light",
      "tags": []
     },
     "output_type": "display_data"
    },
    {
     "data": {
      "image/png": "[encoded data removed]",
      "text/plain": [
       "<Figure size 432x288 with 1 Axes>"
      ]
     },
     "metadata": {
      "needs_background": "light",
      "tags": []
     },
     "output_type": "display_data"
    }
   ],
   "source": [
    "acc = history2.history['accuracy']\n",
    "val_acc = history2.history['val_accuracy']\n",
    "loss = history2.history['loss']\n",
    "val_loss = history2.history['val_loss']\n",
    "\n",
    "epochs = range(len(acc))\n",
    "plt.plot(epochs, acc, 'b', label='Training acc')\n",
    "plt.plot(epochs, val_acc, 'r', label='Validation acc')\n",
    "\n",
    "plt.title('Training and validation accuracy')\n",
    "plt.legend()\n",
    "plt.figure()\n",
    "plt.plot(epochs, loss, 'b', label='Training loss')\n",
    "plt.plot(epochs, val_loss, 'r', label='Validation loss')\n",
    "plt.title('Training and validation loss')\n",
    "plt.legend()\n",
    "\n",
    "plt.show()"
   ]
  },
  {
   "cell_type": "code",
   "execution_count": 0,
   "metadata": {
    "colab": {
     "base_uri": "https://localhost:8080/",
     "height": 69
    },
    "colab_type": "code",
    "id": "7DBbaPoKJVwH",
    "outputId": "ad651054-7ba1-43a2-ac2d-b4d404be0df6"
   },
   "outputs": [
    {
     "name": "stdout",
     "output_type": "stream",
     "text": [
      "Found 2005 images belonging to 7 classes.\n",
      "2005/2005 [==============================] - 32s 16ms/step - loss: 0.8311 - accuracy: 0.6828\n",
      "[0.831104040145874, 0.6827930212020874]\n"
     ]
    }
   ],
   "source": [
    "tsdata = ImageDataGenerator()\n",
    "mean = np.array([123.68, 116.779, 103.939], dtype=\"float32\")\n",
    "tsdata.mean = mean\n",
    "test_generator = tsdata.flow_from_directory(directory=\"/content/Dataset/test\", class_mode=\"categorical\", target_size=(224,224), shuffle=False, batch_size=1)\n",
    "\n",
    "#model = load_model('test0002.h5')\n",
    "model2.load_weights('/content/resnet_1fc256_head_022.h5')\n",
    "\n",
    "results = model2.evaluate(test_generator)\n",
    "print(results)\n",
    "\n",
    "test_generator.reset()\n",
    "\n",
    "predIdxs = model2.predict(test_generator)\n",
    "predIdxs = np.argmax(predIdxs, axis=1)\n",
    "print(classification_report(test_generator.classes, predIdxs,\n",
    "\ttarget_names=test_generator.class_indices.keys()))\n",
    "print(confusion_matrix(test_generator.classes, predIdxs))\n",
    "\n"
   ]
  }
 ],
 "metadata": {
  "accelerator": "GPU",
  "colab": {
   "collapsed_sections": [],
   "name": "Task2.ipynb",
   "provenance": []
  },
  "kernelspec": {
   "display_name": "Python 3",
   "language": "python",
   "name": "python3"
  },
  "language_info": {
   "codemirror_mode": {
    "name": "ipython",
    "version": 3
   },
   "file_extension": ".py",
   "mimetype": "text/x-python",
   "name": "python",
   "nbconvert_exporter": "python",
   "pygments_lexer": "ipython3",
   "version": "3.7.4"
  }
 },
 "nbformat": 4,
 "nbformat_minor": 1
}
